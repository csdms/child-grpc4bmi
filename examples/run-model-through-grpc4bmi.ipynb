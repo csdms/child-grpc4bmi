{
 "cells": [
  {
   "cell_type": "markdown",
   "id": "a79c2779-9015-40b7-9a53-aa41c87880f5",
   "metadata": {},
   "source": [
    "# Run the CHILD model through *grpc4bmi*"
   ]
  },
  {
   "cell_type": "markdown",
   "id": "e4049ff7-5c9e-4479-81ea-1bba1fe4810c",
   "metadata": {},
   "source": [
    "Run the [Channel-Hillslope Integrated Landscape Development](https://csdms.colorado.edu/wiki/Model:CHILD) (CHILD) model in Python through [grpc4bmi](https://grpc4bmi.readthedocs.io).\n",
    "\n",
    "CHILD computes the time evolution of a topographic surface *z(x,y,t)* by fluvial and hillslope erosion and sediment transport.\n",
    "\n",
    "View the model source code and its BMI at https://github.com/childmodel/child."
   ]
  },
  {
   "cell_type": "markdown",
   "id": "2ec7d6db-db56-4772-90df-34f3639cad4b",
   "metadata": {},
   "source": [
    "Start by importing some helper libraries."
   ]
  },
  {
   "cell_type": "code",
   "execution_count": null,
   "id": "46b137fd-a63c-4bbf-be9e-bf9dc24e9084",
   "metadata": {},
   "outputs": [],
   "source": [
    "import os\n",
    "import pathlib\n",
    "import numpy as np\n",
    "import matplotlib.pyplot as plt"
   ]
  },
  {
   "cell_type": "markdown",
   "id": "f324505d-234e-4c78-b0a3-bfbccc098f6e",
   "metadata": {},
   "source": [
    "Next, import the grpc4bmi Docker client."
   ]
  },
  {
   "cell_type": "code",
   "execution_count": null,
   "id": "8d903ed6-77e7-4b49-93f2-04c9ec6df813",
   "metadata": {},
   "outputs": [],
   "source": [
    "from grpc4bmi.bmi_client_docker import BmiClientDocker"
   ]
  },
  {
   "cell_type": "markdown",
   "id": "06be2075-9643-43ca-bfde-d1067bc4c27d",
   "metadata": {},
   "source": [
    "Set variables:\n",
    "* which Docker image to use,\n",
    "* the port exposed through the image, and\n",
    "* the location of the configuration file used for the model."
   ]
  },
  {
   "cell_type": "code",
   "execution_count": null,
   "id": "35bee1ec-0263-4f04-ac7a-04f74b775791",
   "metadata": {},
   "outputs": [],
   "source": [
    "DOCKER_IMAGE = \"csdms/child-grpc4bmi:latest\"\n",
    "BMI_PORT = 55555\n",
    "CONFIG_FILE = pathlib.Path(\"child.in\")"
   ]
  },
  {
   "cell_type": "markdown",
   "id": "f76b4e13-1fbc-4f87-be30-3e4b4e3016d3",
   "metadata": {},
   "source": [
    "Create a model instance, `m`, through the grpc4bmi Docker client.\n",
    "It may take moment to download the model image from Docker Hub."
   ]
  },
  {
   "cell_type": "code",
   "execution_count": null,
   "id": "a2bb4d5a-3e10-4de9-a30c-b6cabfa48c0f",
   "metadata": {},
   "outputs": [],
   "source": [
    "m = BmiClientDocker(image=DOCKER_IMAGE, image_port=BMI_PORT, work_dir=\".\")"
   ]
  },
  {
   "cell_type": "markdown",
   "id": "80f0787f-c5c7-4e42-b46e-b0acd1b4f90f",
   "metadata": {},
   "source": [
    "Show the name of the model."
   ]
  },
  {
   "cell_type": "code",
   "execution_count": null,
   "id": "2097c3b3-eb2b-4f1b-b79d-936b198dd439",
   "metadata": {},
   "outputs": [],
   "source": [
    "m.get_component_name()"
   ]
  },
  {
   "cell_type": "markdown",
   "id": "ab6887ca-eaf0-46b5-8666-8e27264c752f",
   "metadata": {},
   "source": [
    "Start CHILD through its BMI with the configuration file defined above."
   ]
  },
  {
   "cell_type": "code",
   "execution_count": null,
   "id": "ba740f4c-e458-44b9-b600-2b1a76f0e978",
   "metadata": {},
   "outputs": [],
   "source": [
    "m.initialize(str(CONFIG_FILE))"
   ]
  },
  {
   "cell_type": "markdown",
   "id": "21e50db1-fc88-4627-992d-f7ab390e7101",
   "metadata": {},
   "source": [
    "Show the input and output variables the model exposes through its BMI."
   ]
  },
  {
   "cell_type": "code",
   "execution_count": null,
   "id": "e48268ad-7abe-4572-9967-555053e4fecf",
   "metadata": {},
   "outputs": [],
   "source": [
    "m.get_input_var_names(), m.get_output_var_names()"
   ]
  },
  {
   "cell_type": "markdown",
   "id": "f5608782-0445-43f6-99b7-51e40cead446",
   "metadata": {},
   "source": [
    "Check time information provided by the model."
   ]
  },
  {
   "cell_type": "code",
   "execution_count": null,
   "id": "0bb0af6d-fa67-443e-af80-6b32eadb76b5",
   "metadata": {},
   "outputs": [],
   "source": [
    "print(\"Start time:\", m.get_start_time())\n",
    "print(\"End time:\", m.get_end_time())\n",
    "print(\"Current time:\", m.get_current_time())\n",
    "print(\"Time step:\", m.get_time_step())\n",
    "print(\"Time units:\", m.get_time_units())"
   ]
  },
  {
   "cell_type": "markdown",
   "id": "fa6efccb-adb1-484e-be85-1dfa336d8381",
   "metadata": {},
   "source": [
    "The main output variable for CHILD is topographic elevation\n",
    "(using the CSDMS Standard Name `land_surface__elevation`).\n",
    "Get the identifier for the grid on which this variable is defined."
   ]
  },
  {
   "cell_type": "code",
   "execution_count": null,
   "id": "8e7ffb63-48a8-452e-a023-1141209ef204",
   "metadata": {},
   "outputs": [],
   "source": [
    "grid_id = m.get_var_grid(\"land_surface__elevation\")\n",
    "print(\"Grid id:\", grid_id)"
   ]
  },
  {
   "cell_type": "markdown",
   "id": "f1852344-0819-4484-966c-80c6ffdb2b65",
   "metadata": {},
   "source": [
    "Get attributes of the grid."
   ]
  },
  {
   "cell_type": "code",
   "execution_count": null,
   "id": "a1db8c98-dcd7-4649-99a7-318ebe2869c4",
   "metadata": {},
   "outputs": [],
   "source": [
    "print(\"Grid type:\", m.get_grid_type(grid_id))\n",
    "\n",
    "rank = m.get_grid_rank(grid_id)\n",
    "print(\"Grid rank:\", rank)\n",
    "\n",
    "size = m.get_grid_size(grid_id)\n",
    "print(\"Grid size:\", size)"
   ]
  },
  {
   "cell_type": "markdown",
   "id": "1b21b04f-32d9-4723-a768-6e2487bba587",
   "metadata": {},
   "source": [
    "The elevation values are defined on a 2D unstructured mesh grid."
   ]
  },
  {
   "cell_type": "markdown",
   "id": "f395ce25-fe4e-494d-b22f-903dc6d17060",
   "metadata": {},
   "source": [
    "Allocate memory for the elevation variable and get its current values from CHILD.\n",
    "Note that *get_value* expects a one-dimensional array to receive output."
   ]
  },
  {
   "cell_type": "code",
   "execution_count": null,
   "id": "c0800b70-c3f1-46c7-b13f-f1ee13597505",
   "metadata": {},
   "outputs": [],
   "source": [
    "z = np.empty(size, dtype=float)\n",
    "m.get_value(\"land_surface__elevation\", z)\n",
    "\n",
    "z"
   ]
  },
  {
   "cell_type": "markdown",
   "id": "856cc395-01c2-415c-8ee5-eba65f0cbac8",
   "metadata": {},
   "source": [
    "Work around an issue in grpc4bmi by loading the x and y coordinate values of the mesh grid saved directly from the CHILD model."
   ]
  },
  {
   "cell_type": "code",
   "execution_count": null,
   "id": "763dcff1-8436-40f2-bd31-7d899884eaa7",
   "metadata": {},
   "outputs": [],
   "source": [
    "npzfile = np.load(\"xy_coords.npz\")\n",
    "\n",
    "x = npzfile[\"x\"]\n",
    "y = npzfile[\"y\"]"
   ]
  },
  {
   "cell_type": "markdown",
   "id": "c236ebab-984c-422c-af8b-6cbb629bbafe",
   "metadata": {},
   "source": [
    "Define a convenience function for plotting."
   ]
  },
  {
   "cell_type": "code",
   "execution_count": null,
   "id": "b54f31d4-fe63-4217-86ed-f893f96c80bc",
   "metadata": {},
   "outputs": [],
   "source": [
    "def zplot(model, var_name, x, y, **kwds):\n",
    "    gid = model.get_var_grid(var_name)\n",
    "    gsize = model.get_grid_size(gid)\n",
    "    z = np.empty(gsize, dtype=float)\n",
    "    model.get_value(var_name, z)\n",
    "    n_faces = model.get_grid_face_count(gid)\n",
    "    face_nodes = np.empty(3 * n_faces, dtype=int)\n",
    "    model.get_grid_face_nodes(gid, face_nodes)\n",
    "    tris = face_nodes.reshape((-1, 3))\n",
    "    plt.tripcolor(x, y, tris, z, **kwds)\n",
    "    plt.axis(\"tight\")\n",
    "    plt.gca().set_aspect(\"equal\")\n",
    "    plt.xlabel(\"x (m)\")\n",
    "    plt.ylabel(\"y (m)\")\n",
    "    cbar = plt.colorbar()\n",
    "    cbar.ax.set_ylabel(f\"{var_name} ({model.get_var_units(var_name)})\")"
   ]
  },
  {
   "cell_type": "markdown",
   "id": "e3eb0fb8-9bbd-44ef-9900-6951f65d4cb7",
   "metadata": {},
   "source": [
    "This function generates plots that look like the one below.\n",
    "We can see the unstructed grid of triangles that CHILD uses."
   ]
  },
  {
   "cell_type": "code",
   "execution_count": null,
   "id": "16e5f486-8370-4e1d-bade-9e9fd7b12c28",
   "metadata": {},
   "outputs": [],
   "source": [
    "zplot(m, \"land_surface__elevation\", x, y, edgecolors=\"k\", vmin=-200, vmax=200, cmap=\"BrBG_r\")"
   ]
  },
  {
   "cell_type": "markdown",
   "id": "77d5e007-c41f-4959-a95e-31caad36e506",
   "metadata": {},
   "source": [
    "CHILD initializes elevations with random noise centered at 0.\n",
    "Change this to use elevations above and below sea level."
   ]
  },
  {
   "cell_type": "code",
   "execution_count": null,
   "id": "6193dd2c-3be7-4734-9a6c-a3f275bc9753",
   "metadata": {},
   "outputs": [],
   "source": [
    "y_shore = 15000.0\n",
    "z[y < y_shore] -= 100\n",
    "z[y >= y_shore] += 100"
   ]
  },
  {
   "cell_type": "markdown",
   "id": "d44d1ffa-c2a5-4a54-bb25-8e98d61364af",
   "metadata": {},
   "source": [
    "All nodes above `y=y_shore` are land, and all nodes below `y=y_shore` sre sea.\n",
    "\n",
    "Set the new elevation values in the model through its BMI."
   ]
  },
  {
   "cell_type": "code",
   "execution_count": null,
   "id": "12a2c7a4-63f5-4080-a95d-b95a61f965bd",
   "metadata": {},
   "outputs": [],
   "source": [
    "m.set_value(\"land_surface__elevation\", z)"
   ]
  },
  {
   "cell_type": "markdown",
   "id": "312078de-956d-4b22-b495-dd32b78c608b",
   "metadata": {},
   "source": [
    "Display the new elevations."
   ]
  },
  {
   "cell_type": "code",
   "execution_count": null,
   "id": "c886fce1-a415-44b0-823c-912a1447b227",
   "metadata": {},
   "outputs": [],
   "source": [
    "zplot(m, \"land_surface__elevation\", x, y, edgecolors=\"k\", vmin=-200, vmax=200, cmap=\"BrBG_r\")"
   ]
  },
  {
   "cell_type": "markdown",
   "id": "2418cac8-23fa-4949-b331-555923d8769f",
   "metadata": {},
   "source": [
    "Now run the model until the year 5000.\n",
    "(This takes a few moments.)"
   ]
  },
  {
   "cell_type": "code",
   "execution_count": null,
   "id": "0e7c563e-7f4d-438d-98c5-a1dbe315f89a",
   "metadata": {},
   "outputs": [],
   "source": [
    "m.update_until(5000.0)"
   ]
  },
  {
   "cell_type": "markdown",
   "id": "04b22760-eac0-4dc3-9fc6-32e7b04a0ded",
   "metadata": {},
   "source": [
    "Plot the elevation values to see how they've evolved with time."
   ]
  },
  {
   "cell_type": "code",
   "execution_count": null,
   "id": "f1479e4c-e54e-4cc1-991e-0ecdeec1d384",
   "metadata": {},
   "outputs": [],
   "source": [
    "zplot(m, \"land_surface__elevation\", x, y, edgecolors=\"k\", vmin=-200, vmax=200, cmap=\"BrBG_r\")"
   ]
  },
  {
   "cell_type": "markdown",
   "id": "e138e3b0-8cee-461c-ae40-39400a81432d",
   "metadata": {},
   "source": [
    "Stop the model and clean up the resources it allocates."
   ]
  },
  {
   "cell_type": "code",
   "execution_count": null,
   "id": "1668446a-0afa-4b7e-8d3b-137d8d4c4d4f",
   "metadata": {},
   "outputs": [],
   "source": [
    "m.finalize()"
   ]
  },
  {
   "cell_type": "markdown",
   "id": "291cb5ce-c081-490d-8256-dd90e1586a64",
   "metadata": {},
   "source": [
    "Stop the container running through grpc4bmi.\n",
    "This is needed by grpc4bmi to properly deallocate the resources it uses.\n",
    "It may take a few moments."
   ]
  },
  {
   "cell_type": "code",
   "execution_count": null,
   "id": "22039bd2-704b-4fb5-a7bc-8ed8eb6e4bff",
   "metadata": {},
   "outputs": [],
   "source": [
    "del m"
   ]
  }
 ],
 "metadata": {
  "kernelspec": {
   "display_name": "Python 3 (ipykernel)",
   "language": "python",
   "name": "python3"
  },
  "language_info": {
   "codemirror_mode": {
    "name": "ipython",
    "version": 3
   },
   "file_extension": ".py",
   "mimetype": "text/x-python",
   "name": "python",
   "nbconvert_exporter": "python",
   "pygments_lexer": "ipython3",
   "version": "3.13.5"
  }
 },
 "nbformat": 4,
 "nbformat_minor": 5
}
